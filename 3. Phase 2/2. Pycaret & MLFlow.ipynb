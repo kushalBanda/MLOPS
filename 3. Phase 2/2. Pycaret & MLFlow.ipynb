{
 "cells": [
  {
   "attachments": {},
   "cell_type": "markdown",
   "metadata": {},
   "source": [
    "### To be able to register models in MLFlow from Pycaret is very simple.\n"
   ]
  },
  {
   "cell_type": "code",
   "execution_count": 16,
   "metadata": {},
   "outputs": [
    {
     "data": {
      "text/html": [
       "<div>\n",
       "<style scoped>\n",
       "    .dataframe tbody tr th:only-of-type {\n",
       "        vertical-align: middle;\n",
       "    }\n",
       "\n",
       "    .dataframe tbody tr th {\n",
       "        vertical-align: top;\n",
       "    }\n",
       "\n",
       "    .dataframe thead th {\n",
       "        text-align: right;\n",
       "    }\n",
       "</style>\n",
       "<table border=\"1\" class=\"dataframe\">\n",
       "  <thead>\n",
       "    <tr style=\"text-align: right;\">\n",
       "      <th></th>\n",
       "      <th>Carat Weight</th>\n",
       "      <th>Cut</th>\n",
       "      <th>Color</th>\n",
       "      <th>Clarity</th>\n",
       "      <th>Polish</th>\n",
       "      <th>Symmetry</th>\n",
       "      <th>Report</th>\n",
       "      <th>Price</th>\n",
       "    </tr>\n",
       "  </thead>\n",
       "  <tbody>\n",
       "    <tr>\n",
       "      <th>0</th>\n",
       "      <td>1.10</td>\n",
       "      <td>Ideal</td>\n",
       "      <td>H</td>\n",
       "      <td>SI1</td>\n",
       "      <td>VG</td>\n",
       "      <td>EX</td>\n",
       "      <td>GIA</td>\n",
       "      <td>5169</td>\n",
       "    </tr>\n",
       "    <tr>\n",
       "      <th>1</th>\n",
       "      <td>0.83</td>\n",
       "      <td>Ideal</td>\n",
       "      <td>H</td>\n",
       "      <td>VS1</td>\n",
       "      <td>ID</td>\n",
       "      <td>ID</td>\n",
       "      <td>AGSL</td>\n",
       "      <td>3470</td>\n",
       "    </tr>\n",
       "    <tr>\n",
       "      <th>2</th>\n",
       "      <td>0.85</td>\n",
       "      <td>Ideal</td>\n",
       "      <td>H</td>\n",
       "      <td>SI1</td>\n",
       "      <td>EX</td>\n",
       "      <td>EX</td>\n",
       "      <td>GIA</td>\n",
       "      <td>3183</td>\n",
       "    </tr>\n",
       "    <tr>\n",
       "      <th>3</th>\n",
       "      <td>0.91</td>\n",
       "      <td>Ideal</td>\n",
       "      <td>E</td>\n",
       "      <td>SI1</td>\n",
       "      <td>VG</td>\n",
       "      <td>VG</td>\n",
       "      <td>GIA</td>\n",
       "      <td>4370</td>\n",
       "    </tr>\n",
       "    <tr>\n",
       "      <th>4</th>\n",
       "      <td>0.83</td>\n",
       "      <td>Ideal</td>\n",
       "      <td>G</td>\n",
       "      <td>SI1</td>\n",
       "      <td>EX</td>\n",
       "      <td>EX</td>\n",
       "      <td>GIA</td>\n",
       "      <td>3171</td>\n",
       "    </tr>\n",
       "  </tbody>\n",
       "</table>\n",
       "</div>"
      ],
      "text/plain": [
       "   Carat Weight    Cut Color Clarity Polish Symmetry Report  Price\n",
       "0          1.10  Ideal     H     SI1     VG       EX    GIA   5169\n",
       "1          0.83  Ideal     H     VS1     ID       ID   AGSL   3470\n",
       "2          0.85  Ideal     H     SI1     EX       EX    GIA   3183\n",
       "3          0.91  Ideal     E     SI1     VG       VG    GIA   4370\n",
       "4          0.83  Ideal     G     SI1     EX       EX    GIA   3171"
      ]
     },
     "metadata": {},
     "output_type": "display_data"
    }
   ],
   "source": [
    "from pycaret.regression import *\n",
    "from pycaret.datasets import get_data\n",
    "data1 = get_data(dataset = 'diamond')"
   ]
  },
  {
   "cell_type": "code",
   "execution_count": 20,
   "metadata": {},
   "outputs": [
    {
     "data": {
      "text/html": [
       "<style type=\"text/css\">\n",
       "#T_202f2_row10_col1, #T_202f2_row16_col1 {\n",
       "  background-color: lightgreen;\n",
       "}\n",
       "</style>\n",
       "<table id=\"T_202f2\">\n",
       "  <thead>\n",
       "    <tr>\n",
       "      <th class=\"blank level0\" >&nbsp;</th>\n",
       "      <th id=\"T_202f2_level0_col0\" class=\"col_heading level0 col0\" >Description</th>\n",
       "      <th id=\"T_202f2_level0_col1\" class=\"col_heading level0 col1\" >Value</th>\n",
       "    </tr>\n",
       "  </thead>\n",
       "  <tbody>\n",
       "    <tr>\n",
       "      <th id=\"T_202f2_level0_row0\" class=\"row_heading level0 row0\" >0</th>\n",
       "      <td id=\"T_202f2_row0_col0\" class=\"data row0 col0\" >Session id</td>\n",
       "      <td id=\"T_202f2_row0_col1\" class=\"data row0 col1\" >3238</td>\n",
       "    </tr>\n",
       "    <tr>\n",
       "      <th id=\"T_202f2_level0_row1\" class=\"row_heading level0 row1\" >1</th>\n",
       "      <td id=\"T_202f2_row1_col0\" class=\"data row1 col0\" >Target</td>\n",
       "      <td id=\"T_202f2_row1_col1\" class=\"data row1 col1\" >Price</td>\n",
       "    </tr>\n",
       "    <tr>\n",
       "      <th id=\"T_202f2_level0_row2\" class=\"row_heading level0 row2\" >2</th>\n",
       "      <td id=\"T_202f2_row2_col0\" class=\"data row2 col0\" >Target type</td>\n",
       "      <td id=\"T_202f2_row2_col1\" class=\"data row2 col1\" >Regression</td>\n",
       "    </tr>\n",
       "    <tr>\n",
       "      <th id=\"T_202f2_level0_row3\" class=\"row_heading level0 row3\" >3</th>\n",
       "      <td id=\"T_202f2_row3_col0\" class=\"data row3 col0\" >Original data shape</td>\n",
       "      <td id=\"T_202f2_row3_col1\" class=\"data row3 col1\" >(6000, 8)</td>\n",
       "    </tr>\n",
       "    <tr>\n",
       "      <th id=\"T_202f2_level0_row4\" class=\"row_heading level0 row4\" >4</th>\n",
       "      <td id=\"T_202f2_row4_col0\" class=\"data row4 col0\" >Transformed data shape</td>\n",
       "      <td id=\"T_202f2_row4_col1\" class=\"data row4 col1\" >(6000, 29)</td>\n",
       "    </tr>\n",
       "    <tr>\n",
       "      <th id=\"T_202f2_level0_row5\" class=\"row_heading level0 row5\" >5</th>\n",
       "      <td id=\"T_202f2_row5_col0\" class=\"data row5 col0\" >Transformed train set shape</td>\n",
       "      <td id=\"T_202f2_row5_col1\" class=\"data row5 col1\" >(4200, 29)</td>\n",
       "    </tr>\n",
       "    <tr>\n",
       "      <th id=\"T_202f2_level0_row6\" class=\"row_heading level0 row6\" >6</th>\n",
       "      <td id=\"T_202f2_row6_col0\" class=\"data row6 col0\" >Transformed test set shape</td>\n",
       "      <td id=\"T_202f2_row6_col1\" class=\"data row6 col1\" >(1800, 29)</td>\n",
       "    </tr>\n",
       "    <tr>\n",
       "      <th id=\"T_202f2_level0_row7\" class=\"row_heading level0 row7\" >7</th>\n",
       "      <td id=\"T_202f2_row7_col0\" class=\"data row7 col0\" >Ordinal features</td>\n",
       "      <td id=\"T_202f2_row7_col1\" class=\"data row7 col1\" >1</td>\n",
       "    </tr>\n",
       "    <tr>\n",
       "      <th id=\"T_202f2_level0_row8\" class=\"row_heading level0 row8\" >8</th>\n",
       "      <td id=\"T_202f2_row8_col0\" class=\"data row8 col0\" >Numeric features</td>\n",
       "      <td id=\"T_202f2_row8_col1\" class=\"data row8 col1\" >1</td>\n",
       "    </tr>\n",
       "    <tr>\n",
       "      <th id=\"T_202f2_level0_row9\" class=\"row_heading level0 row9\" >9</th>\n",
       "      <td id=\"T_202f2_row9_col0\" class=\"data row9 col0\" >Categorical features</td>\n",
       "      <td id=\"T_202f2_row9_col1\" class=\"data row9 col1\" >6</td>\n",
       "    </tr>\n",
       "    <tr>\n",
       "      <th id=\"T_202f2_level0_row10\" class=\"row_heading level0 row10\" >10</th>\n",
       "      <td id=\"T_202f2_row10_col0\" class=\"data row10 col0\" >Preprocess</td>\n",
       "      <td id=\"T_202f2_row10_col1\" class=\"data row10 col1\" >True</td>\n",
       "    </tr>\n",
       "    <tr>\n",
       "      <th id=\"T_202f2_level0_row11\" class=\"row_heading level0 row11\" >11</th>\n",
       "      <td id=\"T_202f2_row11_col0\" class=\"data row11 col0\" >Imputation type</td>\n",
       "      <td id=\"T_202f2_row11_col1\" class=\"data row11 col1\" >simple</td>\n",
       "    </tr>\n",
       "    <tr>\n",
       "      <th id=\"T_202f2_level0_row12\" class=\"row_heading level0 row12\" >12</th>\n",
       "      <td id=\"T_202f2_row12_col0\" class=\"data row12 col0\" >Numeric imputation</td>\n",
       "      <td id=\"T_202f2_row12_col1\" class=\"data row12 col1\" >mean</td>\n",
       "    </tr>\n",
       "    <tr>\n",
       "      <th id=\"T_202f2_level0_row13\" class=\"row_heading level0 row13\" >13</th>\n",
       "      <td id=\"T_202f2_row13_col0\" class=\"data row13 col0\" >Categorical imputation</td>\n",
       "      <td id=\"T_202f2_row13_col1\" class=\"data row13 col1\" >mode</td>\n",
       "    </tr>\n",
       "    <tr>\n",
       "      <th id=\"T_202f2_level0_row14\" class=\"row_heading level0 row14\" >14</th>\n",
       "      <td id=\"T_202f2_row14_col0\" class=\"data row14 col0\" >Maximum one-hot encoding</td>\n",
       "      <td id=\"T_202f2_row14_col1\" class=\"data row14 col1\" >25</td>\n",
       "    </tr>\n",
       "    <tr>\n",
       "      <th id=\"T_202f2_level0_row15\" class=\"row_heading level0 row15\" >15</th>\n",
       "      <td id=\"T_202f2_row15_col0\" class=\"data row15 col0\" >Encoding method</td>\n",
       "      <td id=\"T_202f2_row15_col1\" class=\"data row15 col1\" >None</td>\n",
       "    </tr>\n",
       "    <tr>\n",
       "      <th id=\"T_202f2_level0_row16\" class=\"row_heading level0 row16\" >16</th>\n",
       "      <td id=\"T_202f2_row16_col0\" class=\"data row16 col0\" >Transform target</td>\n",
       "      <td id=\"T_202f2_row16_col1\" class=\"data row16 col1\" >True</td>\n",
       "    </tr>\n",
       "    <tr>\n",
       "      <th id=\"T_202f2_level0_row17\" class=\"row_heading level0 row17\" >17</th>\n",
       "      <td id=\"T_202f2_row17_col0\" class=\"data row17 col0\" >Transform target method</td>\n",
       "      <td id=\"T_202f2_row17_col1\" class=\"data row17 col1\" >yeo-johnson</td>\n",
       "    </tr>\n",
       "    <tr>\n",
       "      <th id=\"T_202f2_level0_row18\" class=\"row_heading level0 row18\" >18</th>\n",
       "      <td id=\"T_202f2_row18_col0\" class=\"data row18 col0\" >Fold Generator</td>\n",
       "      <td id=\"T_202f2_row18_col1\" class=\"data row18 col1\" >KFold</td>\n",
       "    </tr>\n",
       "    <tr>\n",
       "      <th id=\"T_202f2_level0_row19\" class=\"row_heading level0 row19\" >19</th>\n",
       "      <td id=\"T_202f2_row19_col0\" class=\"data row19 col0\" >Fold Number</td>\n",
       "      <td id=\"T_202f2_row19_col1\" class=\"data row19 col1\" >10</td>\n",
       "    </tr>\n",
       "    <tr>\n",
       "      <th id=\"T_202f2_level0_row20\" class=\"row_heading level0 row20\" >20</th>\n",
       "      <td id=\"T_202f2_row20_col0\" class=\"data row20 col0\" >CPU Jobs</td>\n",
       "      <td id=\"T_202f2_row20_col1\" class=\"data row20 col1\" >-1</td>\n",
       "    </tr>\n",
       "    <tr>\n",
       "      <th id=\"T_202f2_level0_row21\" class=\"row_heading level0 row21\" >21</th>\n",
       "      <td id=\"T_202f2_row21_col0\" class=\"data row21 col0\" >Use GPU</td>\n",
       "      <td id=\"T_202f2_row21_col1\" class=\"data row21 col1\" >False</td>\n",
       "    </tr>\n",
       "    <tr>\n",
       "      <th id=\"T_202f2_level0_row22\" class=\"row_heading level0 row22\" >22</th>\n",
       "      <td id=\"T_202f2_row22_col0\" class=\"data row22 col0\" >Log Experiment</td>\n",
       "      <td id=\"T_202f2_row22_col1\" class=\"data row22 col1\" >MlflowLogger</td>\n",
       "    </tr>\n",
       "    <tr>\n",
       "      <th id=\"T_202f2_level0_row23\" class=\"row_heading level0 row23\" >23</th>\n",
       "      <td id=\"T_202f2_row23_col0\" class=\"data row23 col0\" >Experiment Name</td>\n",
       "      <td id=\"T_202f2_row23_col1\" class=\"data row23 col1\" >diamond_1</td>\n",
       "    </tr>\n",
       "    <tr>\n",
       "      <th id=\"T_202f2_level0_row24\" class=\"row_heading level0 row24\" >24</th>\n",
       "      <td id=\"T_202f2_row24_col0\" class=\"data row24 col0\" >USI</td>\n",
       "      <td id=\"T_202f2_row24_col1\" class=\"data row24 col1\" >3518</td>\n",
       "    </tr>\n",
       "  </tbody>\n",
       "</table>\n"
      ],
      "text/plain": [
       "<pandas.io.formats.style.Styler at 0x7f862cd56fd0>"
      ]
     },
     "metadata": {},
     "output_type": "display_data"
    }
   ],
   "source": [
    "# Initialize configuration\n",
    "s = setup(data1, target = 'Price',\n",
    "          transform_target = True, \n",
    "          log_experiment = True, \n",
    "          log_plots = True, \n",
    "          experiment_name = 'diamond_1')"
   ]
  },
  {
   "attachments": {},
   "cell_type": "markdown",
   "metadata": {},
   "source": [
    "### Model Training "
   ]
  },
  {
   "cell_type": "code",
   "execution_count": 21,
   "metadata": {},
   "outputs": [
    {
     "data": {
      "text/html": [],
      "text/plain": [
       "<IPython.core.display.HTML object>"
      ]
     },
     "metadata": {},
     "output_type": "display_data"
    },
    {
     "data": {
      "text/html": [
       "<style type=\"text/css\">\n",
       "#T_4c080 th {\n",
       "  text-align: left;\n",
       "}\n",
       "#T_4c080_row0_col0, #T_4c080_row1_col0, #T_4c080_row1_col1, #T_4c080_row1_col2, #T_4c080_row1_col3, #T_4c080_row1_col4, #T_4c080_row1_col5, #T_4c080_row1_col6, #T_4c080_row2_col0, #T_4c080_row2_col1, #T_4c080_row2_col2, #T_4c080_row2_col3, #T_4c080_row2_col4, #T_4c080_row2_col5, #T_4c080_row2_col6, #T_4c080_row3_col0, #T_4c080_row3_col1, #T_4c080_row3_col2, #T_4c080_row3_col3, #T_4c080_row3_col4, #T_4c080_row3_col5, #T_4c080_row3_col6, #T_4c080_row4_col0, #T_4c080_row4_col1, #T_4c080_row4_col2, #T_4c080_row4_col3, #T_4c080_row4_col4, #T_4c080_row4_col5, #T_4c080_row4_col6, #T_4c080_row5_col0, #T_4c080_row5_col1, #T_4c080_row5_col2, #T_4c080_row5_col3, #T_4c080_row5_col4, #T_4c080_row5_col5, #T_4c080_row5_col6, #T_4c080_row6_col0, #T_4c080_row6_col1, #T_4c080_row6_col2, #T_4c080_row6_col3, #T_4c080_row6_col4, #T_4c080_row6_col5, #T_4c080_row6_col6, #T_4c080_row7_col0, #T_4c080_row7_col1, #T_4c080_row7_col2, #T_4c080_row7_col3, #T_4c080_row7_col4, #T_4c080_row7_col5, #T_4c080_row7_col6, #T_4c080_row8_col0, #T_4c080_row8_col1, #T_4c080_row8_col2, #T_4c080_row8_col3, #T_4c080_row8_col4, #T_4c080_row8_col5, #T_4c080_row8_col6, #T_4c080_row9_col0, #T_4c080_row9_col1, #T_4c080_row9_col2, #T_4c080_row9_col3, #T_4c080_row9_col4, #T_4c080_row9_col5, #T_4c080_row9_col6, #T_4c080_row10_col0, #T_4c080_row10_col1, #T_4c080_row10_col2, #T_4c080_row10_col3, #T_4c080_row10_col4, #T_4c080_row10_col5, #T_4c080_row10_col6, #T_4c080_row11_col0, #T_4c080_row11_col1, #T_4c080_row11_col2, #T_4c080_row11_col3, #T_4c080_row11_col4, #T_4c080_row11_col5, #T_4c080_row11_col6, #T_4c080_row12_col0, #T_4c080_row12_col1, #T_4c080_row12_col2, #T_4c080_row12_col3, #T_4c080_row12_col4, #T_4c080_row12_col5, #T_4c080_row12_col6, #T_4c080_row13_col0, #T_4c080_row13_col1, #T_4c080_row13_col2, #T_4c080_row13_col3, #T_4c080_row13_col4, #T_4c080_row13_col5, #T_4c080_row13_col6, #T_4c080_row14_col0, #T_4c080_row14_col1, #T_4c080_row14_col2, #T_4c080_row14_col3, #T_4c080_row14_col4, #T_4c080_row14_col5, #T_4c080_row14_col6, #T_4c080_row15_col0, #T_4c080_row15_col1, #T_4c080_row15_col2, #T_4c080_row15_col3, #T_4c080_row15_col4, #T_4c080_row15_col5, #T_4c080_row15_col6 {\n",
       "  text-align: left;\n",
       "}\n",
       "#T_4c080_row0_col1, #T_4c080_row0_col2, #T_4c080_row0_col3, #T_4c080_row0_col4, #T_4c080_row0_col5, #T_4c080_row0_col6 {\n",
       "  text-align: left;\n",
       "  background-color: yellow;\n",
       "}\n",
       "#T_4c080_row0_col7, #T_4c080_row1_col7, #T_4c080_row2_col7, #T_4c080_row3_col7, #T_4c080_row4_col7, #T_4c080_row5_col7, #T_4c080_row6_col7, #T_4c080_row8_col7, #T_4c080_row9_col7, #T_4c080_row10_col7, #T_4c080_row11_col7, #T_4c080_row12_col7, #T_4c080_row13_col7, #T_4c080_row14_col7, #T_4c080_row15_col7 {\n",
       "  text-align: left;\n",
       "  background-color: lightgrey;\n",
       "}\n",
       "#T_4c080_row7_col7 {\n",
       "  text-align: left;\n",
       "  background-color: yellow;\n",
       "  background-color: lightgrey;\n",
       "}\n",
       "</style>\n",
       "<table id=\"T_4c080\">\n",
       "  <thead>\n",
       "    <tr>\n",
       "      <th class=\"blank level0\" >&nbsp;</th>\n",
       "      <th id=\"T_4c080_level0_col0\" class=\"col_heading level0 col0\" >Model</th>\n",
       "      <th id=\"T_4c080_level0_col1\" class=\"col_heading level0 col1\" >MAE</th>\n",
       "      <th id=\"T_4c080_level0_col2\" class=\"col_heading level0 col2\" >MSE</th>\n",
       "      <th id=\"T_4c080_level0_col3\" class=\"col_heading level0 col3\" >RMSE</th>\n",
       "      <th id=\"T_4c080_level0_col4\" class=\"col_heading level0 col4\" >R2</th>\n",
       "      <th id=\"T_4c080_level0_col5\" class=\"col_heading level0 col5\" >RMSLE</th>\n",
       "      <th id=\"T_4c080_level0_col6\" class=\"col_heading level0 col6\" >MAPE</th>\n",
       "      <th id=\"T_4c080_level0_col7\" class=\"col_heading level0 col7\" >TT (Sec)</th>\n",
       "    </tr>\n",
       "  </thead>\n",
       "  <tbody>\n",
       "    <tr>\n",
       "      <th id=\"T_4c080_level0_row0\" class=\"row_heading level0 row0\" >lightgbm</th>\n",
       "      <td id=\"T_4c080_row0_col0\" class=\"data row0 col0\" >Light Gradient Boosting Machine</td>\n",
       "      <td id=\"T_4c080_row0_col1\" class=\"data row0 col1\" >640.6052</td>\n",
       "      <td id=\"T_4c080_row0_col2\" class=\"data row0 col2\" >1824551.2412</td>\n",
       "      <td id=\"T_4c080_row0_col3\" class=\"data row0 col3\" >1339.7153</td>\n",
       "      <td id=\"T_4c080_row0_col4\" class=\"data row0 col4\" >0.9823</td>\n",
       "      <td id=\"T_4c080_row0_col5\" class=\"data row0 col5\" >0.0664</td>\n",
       "      <td id=\"T_4c080_row0_col6\" class=\"data row0 col6\" >0.0489</td>\n",
       "      <td id=\"T_4c080_row0_col7\" class=\"data row0 col7\" >0.0760</td>\n",
       "    </tr>\n",
       "    <tr>\n",
       "      <th id=\"T_4c080_level0_row1\" class=\"row_heading level0 row1\" >gbr</th>\n",
       "      <td id=\"T_4c080_row1_col0\" class=\"data row1 col0\" >Gradient Boosting Regressor</td>\n",
       "      <td id=\"T_4c080_row1_col1\" class=\"data row1 col1\" >762.8885</td>\n",
       "      <td id=\"T_4c080_row1_col2\" class=\"data row1 col2\" >2221524.7254</td>\n",
       "      <td id=\"T_4c080_row1_col3\" class=\"data row1 col3\" >1481.8984</td>\n",
       "      <td id=\"T_4c080_row1_col4\" class=\"data row1 col4\" >0.9785</td>\n",
       "      <td id=\"T_4c080_row1_col5\" class=\"data row1 col5\" >0.0759</td>\n",
       "      <td id=\"T_4c080_row1_col6\" class=\"data row1 col6\" >0.0573</td>\n",
       "      <td id=\"T_4c080_row1_col7\" class=\"data row1 col7\" >0.1180</td>\n",
       "    </tr>\n",
       "    <tr>\n",
       "      <th id=\"T_4c080_level0_row2\" class=\"row_heading level0 row2\" >et</th>\n",
       "      <td id=\"T_4c080_row2_col0\" class=\"data row2 col0\" >Extra Trees Regressor</td>\n",
       "      <td id=\"T_4c080_row2_col1\" class=\"data row2 col1\" >761.5215</td>\n",
       "      <td id=\"T_4c080_row2_col2\" class=\"data row2 col2\" >2499949.2362</td>\n",
       "      <td id=\"T_4c080_row2_col3\" class=\"data row2 col3\" >1535.4003</td>\n",
       "      <td id=\"T_4c080_row2_col4\" class=\"data row2 col4\" >0.9763</td>\n",
       "      <td id=\"T_4c080_row2_col5\" class=\"data row2 col5\" >0.0798</td>\n",
       "      <td id=\"T_4c080_row2_col6\" class=\"data row2 col6\" >0.0589</td>\n",
       "      <td id=\"T_4c080_row2_col7\" class=\"data row2 col7\" >0.2760</td>\n",
       "    </tr>\n",
       "    <tr>\n",
       "      <th id=\"T_4c080_level0_row3\" class=\"row_heading level0 row3\" >rf</th>\n",
       "      <td id=\"T_4c080_row3_col0\" class=\"data row3 col0\" >Random Forest Regressor</td>\n",
       "      <td id=\"T_4c080_row3_col1\" class=\"data row3 col1\" >750.2194</td>\n",
       "      <td id=\"T_4c080_row3_col2\" class=\"data row3 col2\" >2530173.2436</td>\n",
       "      <td id=\"T_4c080_row3_col3\" class=\"data row3 col3\" >1543.3533</td>\n",
       "      <td id=\"T_4c080_row3_col4\" class=\"data row3 col4\" >0.9760</td>\n",
       "      <td id=\"T_4c080_row3_col5\" class=\"data row3 col5\" >0.0784</td>\n",
       "      <td id=\"T_4c080_row3_col6\" class=\"data row3 col6\" >0.0575</td>\n",
       "      <td id=\"T_4c080_row3_col7\" class=\"data row3 col7\" >0.2380</td>\n",
       "    </tr>\n",
       "    <tr>\n",
       "      <th id=\"T_4c080_level0_row4\" class=\"row_heading level0 row4\" >dt</th>\n",
       "      <td id=\"T_4c080_row4_col0\" class=\"data row4 col0\" >Decision Tree Regressor</td>\n",
       "      <td id=\"T_4c080_row4_col1\" class=\"data row4 col1\" >964.7277</td>\n",
       "      <td id=\"T_4c080_row4_col2\" class=\"data row4 col2\" >3810829.9096</td>\n",
       "      <td id=\"T_4c080_row4_col3\" class=\"data row4 col3\" >1910.9811</td>\n",
       "      <td id=\"T_4c080_row4_col4\" class=\"data row4 col4\" >0.9637</td>\n",
       "      <td id=\"T_4c080_row4_col5\" class=\"data row4 col5\" >0.1007</td>\n",
       "      <td id=\"T_4c080_row4_col6\" class=\"data row4 col6\" >0.0746</td>\n",
       "      <td id=\"T_4c080_row4_col7\" class=\"data row4 col7\" >0.0690</td>\n",
       "    </tr>\n",
       "    <tr>\n",
       "      <th id=\"T_4c080_level0_row5\" class=\"row_heading level0 row5\" >ada</th>\n",
       "      <td id=\"T_4c080_row5_col0\" class=\"data row5 col0\" >AdaBoost Regressor</td>\n",
       "      <td id=\"T_4c080_row5_col1\" class=\"data row5 col1\" >1998.7213</td>\n",
       "      <td id=\"T_4c080_row5_col2\" class=\"data row5 col2\" >16058544.4280</td>\n",
       "      <td id=\"T_4c080_row5_col3\" class=\"data row5 col3\" >3974.7808</td>\n",
       "      <td id=\"T_4c080_row5_col4\" class=\"data row5 col4\" >0.8450</td>\n",
       "      <td id=\"T_4c080_row5_col5\" class=\"data row5 col5\" >0.1862</td>\n",
       "      <td id=\"T_4c080_row5_col6\" class=\"data row5 col6\" >0.1506</td>\n",
       "      <td id=\"T_4c080_row5_col7\" class=\"data row5 col7\" >0.1190</td>\n",
       "    </tr>\n",
       "    <tr>\n",
       "      <th id=\"T_4c080_level0_row6\" class=\"row_heading level0 row6\" >knn</th>\n",
       "      <td id=\"T_4c080_row6_col0\" class=\"data row6 col0\" >K Neighbors Regressor</td>\n",
       "      <td id=\"T_4c080_row6_col1\" class=\"data row6 col1\" >3122.5040</td>\n",
       "      <td id=\"T_4c080_row6_col2\" class=\"data row6 col2\" >37713575.1448</td>\n",
       "      <td id=\"T_4c080_row6_col3\" class=\"data row6 col3\" >6105.7210</td>\n",
       "      <td id=\"T_4c080_row6_col4\" class=\"data row6 col4\" >0.6353</td>\n",
       "      <td id=\"T_4c080_row6_col5\" class=\"data row6 col5\" >0.3700</td>\n",
       "      <td id=\"T_4c080_row6_col6\" class=\"data row6 col6\" >0.2375</td>\n",
       "      <td id=\"T_4c080_row6_col7\" class=\"data row6 col7\" >0.0720</td>\n",
       "    </tr>\n",
       "    <tr>\n",
       "      <th id=\"T_4c080_level0_row7\" class=\"row_heading level0 row7\" >omp</th>\n",
       "      <td id=\"T_4c080_row7_col0\" class=\"data row7 col0\" >Orthogonal Matching Pursuit</td>\n",
       "      <td id=\"T_4c080_row7_col1\" class=\"data row7 col1\" >3213.7249</td>\n",
       "      <td id=\"T_4c080_row7_col2\" class=\"data row7 col2\" >71566886.9116</td>\n",
       "      <td id=\"T_4c080_row7_col3\" class=\"data row7 col3\" >8141.3667</td>\n",
       "      <td id=\"T_4c080_row7_col4\" class=\"data row7 col4\" >0.3143</td>\n",
       "      <td id=\"T_4c080_row7_col5\" class=\"data row7 col5\" >0.2759</td>\n",
       "      <td id=\"T_4c080_row7_col6\" class=\"data row7 col6\" >0.2159</td>\n",
       "      <td id=\"T_4c080_row7_col7\" class=\"data row7 col7\" >0.0630</td>\n",
       "    </tr>\n",
       "    <tr>\n",
       "      <th id=\"T_4c080_level0_row8\" class=\"row_heading level0 row8\" >lasso</th>\n",
       "      <td id=\"T_4c080_row8_col0\" class=\"data row8 col0\" >Lasso Regression</td>\n",
       "      <td id=\"T_4c080_row8_col1\" class=\"data row8 col1\" >6667.5533</td>\n",
       "      <td id=\"T_4c080_row8_col2\" class=\"data row8 col2\" >115642154.5702</td>\n",
       "      <td id=\"T_4c080_row8_col3\" class=\"data row8 col3\" >10737.6371</td>\n",
       "      <td id=\"T_4c080_row8_col4\" class=\"data row8 col4\" >-0.1248</td>\n",
       "      <td id=\"T_4c080_row8_col5\" class=\"data row8 col5\" >0.7129</td>\n",
       "      <td id=\"T_4c080_row8_col6\" class=\"data row8 col6\" >0.5719</td>\n",
       "      <td id=\"T_4c080_row8_col7\" class=\"data row8 col7\" >0.0770</td>\n",
       "    </tr>\n",
       "    <tr>\n",
       "      <th id=\"T_4c080_level0_row9\" class=\"row_heading level0 row9\" >en</th>\n",
       "      <td id=\"T_4c080_row9_col0\" class=\"data row9 col0\" >Elastic Net</td>\n",
       "      <td id=\"T_4c080_row9_col1\" class=\"data row9 col1\" >6667.5533</td>\n",
       "      <td id=\"T_4c080_row9_col2\" class=\"data row9 col2\" >115642154.5702</td>\n",
       "      <td id=\"T_4c080_row9_col3\" class=\"data row9 col3\" >10737.6371</td>\n",
       "      <td id=\"T_4c080_row9_col4\" class=\"data row9 col4\" >-0.1248</td>\n",
       "      <td id=\"T_4c080_row9_col5\" class=\"data row9 col5\" >0.7129</td>\n",
       "      <td id=\"T_4c080_row9_col6\" class=\"data row9 col6\" >0.5719</td>\n",
       "      <td id=\"T_4c080_row9_col7\" class=\"data row9 col7\" >0.0660</td>\n",
       "    </tr>\n",
       "    <tr>\n",
       "      <th id=\"T_4c080_level0_row10\" class=\"row_heading level0 row10\" >llar</th>\n",
       "      <td id=\"T_4c080_row10_col0\" class=\"data row10 col0\" >Lasso Least Angle Regression</td>\n",
       "      <td id=\"T_4c080_row10_col1\" class=\"data row10 col1\" >6667.5533</td>\n",
       "      <td id=\"T_4c080_row10_col2\" class=\"data row10 col2\" >115642154.5702</td>\n",
       "      <td id=\"T_4c080_row10_col3\" class=\"data row10 col3\" >10737.6371</td>\n",
       "      <td id=\"T_4c080_row10_col4\" class=\"data row10 col4\" >-0.1248</td>\n",
       "      <td id=\"T_4c080_row10_col5\" class=\"data row10 col5\" >0.7129</td>\n",
       "      <td id=\"T_4c080_row10_col6\" class=\"data row10 col6\" >0.5719</td>\n",
       "      <td id=\"T_4c080_row10_col7\" class=\"data row10 col7\" >0.0640</td>\n",
       "    </tr>\n",
       "    <tr>\n",
       "      <th id=\"T_4c080_level0_row11\" class=\"row_heading level0 row11\" >dummy</th>\n",
       "      <td id=\"T_4c080_row11_col0\" class=\"data row11 col0\" >Dummy Regressor</td>\n",
       "      <td id=\"T_4c080_row11_col1\" class=\"data row11 col1\" >6667.5533</td>\n",
       "      <td id=\"T_4c080_row11_col2\" class=\"data row11 col2\" >115642154.5702</td>\n",
       "      <td id=\"T_4c080_row11_col3\" class=\"data row11 col3\" >10737.6371</td>\n",
       "      <td id=\"T_4c080_row11_col4\" class=\"data row11 col4\" >-0.1248</td>\n",
       "      <td id=\"T_4c080_row11_col5\" class=\"data row11 col5\" >0.7129</td>\n",
       "      <td id=\"T_4c080_row11_col6\" class=\"data row11 col6\" >0.5719</td>\n",
       "      <td id=\"T_4c080_row11_col7\" class=\"data row11 col7\" >0.0730</td>\n",
       "    </tr>\n",
       "    <tr>\n",
       "      <th id=\"T_4c080_level0_row12\" class=\"row_heading level0 row12\" >ridge</th>\n",
       "      <td id=\"T_4c080_row12_col0\" class=\"data row12 col0\" >Ridge Regression</td>\n",
       "      <td id=\"T_4c080_row12_col1\" class=\"data row12 col1\" >3193.9589</td>\n",
       "      <td id=\"T_4c080_row12_col2\" class=\"data row12 col2\" >454860448.4448</td>\n",
       "      <td id=\"T_4c080_row12_col3\" class=\"data row12 col3\" >16278.1924</td>\n",
       "      <td id=\"T_4c080_row12_col4\" class=\"data row12 col4\" >-3.1760</td>\n",
       "      <td id=\"T_4c080_row12_col5\" class=\"data row12 col5\" >0.2137</td>\n",
       "      <td id=\"T_4c080_row12_col6\" class=\"data row12 col6\" >0.1651</td>\n",
       "      <td id=\"T_4c080_row12_col7\" class=\"data row12 col7\" >0.0660</td>\n",
       "    </tr>\n",
       "    <tr>\n",
       "      <th id=\"T_4c080_level0_row13\" class=\"row_heading level0 row13\" >br</th>\n",
       "      <td id=\"T_4c080_row13_col0\" class=\"data row13 col0\" >Bayesian Ridge</td>\n",
       "      <td id=\"T_4c080_row13_col1\" class=\"data row13 col1\" >3211.3902</td>\n",
       "      <td id=\"T_4c080_row13_col2\" class=\"data row13 col2\" >462961974.8968</td>\n",
       "      <td id=\"T_4c080_row13_col3\" class=\"data row13 col3\" >16406.3669</td>\n",
       "      <td id=\"T_4c080_row13_col4\" class=\"data row13 col4\" >-3.2503</td>\n",
       "      <td id=\"T_4c080_row13_col5\" class=\"data row13 col5\" >0.2140</td>\n",
       "      <td id=\"T_4c080_row13_col6\" class=\"data row13 col6\" >0.1654</td>\n",
       "      <td id=\"T_4c080_row13_col7\" class=\"data row13 col7\" >0.0680</td>\n",
       "    </tr>\n",
       "    <tr>\n",
       "      <th id=\"T_4c080_level0_row14\" class=\"row_heading level0 row14\" >huber</th>\n",
       "      <td id=\"T_4c080_row14_col0\" class=\"data row14 col0\" >Huber Regressor</td>\n",
       "      <td id=\"T_4c080_row14_col1\" class=\"data row14 col1\" >3271.4361</td>\n",
       "      <td id=\"T_4c080_row14_col2\" class=\"data row14 col2\" >494218561.3374</td>\n",
       "      <td id=\"T_4c080_row14_col3\" class=\"data row14 col3\" >16727.7790</td>\n",
       "      <td id=\"T_4c080_row14_col4\" class=\"data row14 col4\" >-3.5306</td>\n",
       "      <td id=\"T_4c080_row14_col5\" class=\"data row14 col5\" >0.2352</td>\n",
       "      <td id=\"T_4c080_row14_col6\" class=\"data row14 col6\" >0.1669</td>\n",
       "      <td id=\"T_4c080_row14_col7\" class=\"data row14 col7\" >0.0800</td>\n",
       "    </tr>\n",
       "    <tr>\n",
       "      <th id=\"T_4c080_level0_row15\" class=\"row_heading level0 row15\" >lr</th>\n",
       "      <td id=\"T_4c080_row15_col0\" class=\"data row15 col0\" >Linear Regression</td>\n",
       "      <td id=\"T_4c080_row15_col1\" class=\"data row15 col1\" >3537.3611</td>\n",
       "      <td id=\"T_4c080_row15_col2\" class=\"data row15 col2\" >511343986.7190</td>\n",
       "      <td id=\"T_4c080_row15_col3\" class=\"data row15 col3\" >17915.6518</td>\n",
       "      <td id=\"T_4c080_row15_col4\" class=\"data row15 col4\" >-3.7185</td>\n",
       "      <td id=\"T_4c080_row15_col5\" class=\"data row15 col5\" >0.2365</td>\n",
       "      <td id=\"T_4c080_row15_col6\" class=\"data row15 col6\" >0.1857</td>\n",
       "      <td id=\"T_4c080_row15_col7\" class=\"data row15 col7\" >0.4220</td>\n",
       "    </tr>\n",
       "  </tbody>\n",
       "</table>\n"
      ],
      "text/plain": [
       "<pandas.io.formats.style.Styler at 0x7f8618a47f10>"
      ]
     },
     "metadata": {},
     "output_type": "display_data"
    },
    {
     "data": {
      "text/html": [],
      "text/plain": [
       "<IPython.core.display.HTML object>"
      ]
     },
     "metadata": {},
     "output_type": "display_data"
    }
   ],
   "source": [
    "# Compare all models\n",
    "best = compare_models()"
   ]
  },
  {
   "cell_type": "code",
   "execution_count": 22,
   "metadata": {},
   "outputs": [
    {
     "data": {
      "text/html": [],
      "text/plain": [
       "<IPython.core.display.HTML object>"
      ]
     },
     "metadata": {},
     "output_type": "display_data"
    },
    {
     "data": {
      "image/png": "[encoded data removed]",
      "text/plain": [
       "<Figure size 800x550 with 2 Axes>"
      ]
     },
     "metadata": {},
     "output_type": "display_data"
    }
   ],
   "source": [
    "# Check the residuals of trained model\n",
    "plot_model(best, plot = 'residuals')"
   ]
  },
  {
   "cell_type": "code",
   "execution_count": 23,
   "metadata": {},
   "outputs": [
    {
     "name": "stdout",
     "output_type": "stream",
     "text": [
      "Transformation Pipeline and Model Successfully Saved\n"
     ]
    },
    {
     "data": {
      "text/plain": [
       "(Pipeline(memory=FastMemory(location=/var/folders/_9/wkm0tqns0n53w3ytpgc_68kc0000gn/T/joblib),\n",
       "          steps=[('target_transformation',\n",
       "                  TransformerWrapperWithInverse(transformer=TargetTransformer(estimator=PowerTransformer(standardize=False)))),\n",
       "                 ('numerical_imputer',\n",
       "                  TransformerWrapper(include=['Carat Weight'],\n",
       "                                     transformer=SimpleImputer())),\n",
       "                 ('categorical_imputer'...\n",
       " dtype: int64}]))),\n",
       "                 ('onehot_encoding',\n",
       "                  TransformerWrapper(include=['Cut', 'Color', 'Clarity',\n",
       "                                              'Polish', 'Symmetry'],\n",
       "                                     transformer=OneHotEncoder(cols=['Cut',\n",
       "                                                                     'Color',\n",
       "                                                                     'Clarity',\n",
       "                                                                     'Polish',\n",
       "                                                                     'Symmetry'],\n",
       "                                                               handle_missing='return_nan',\n",
       "                                                               use_cat_names=True))),\n",
       "                 ('clean_column_names',\n",
       "                  TransformerWrapper(transformer=CleanColumnNames())),\n",
       "                 ('actual_estimator', LGBMRegressor(random_state=3238))]),\n",
       " 'diamond_pipeline.pkl')"
      ]
     },
     "execution_count": 23,
     "metadata": {},
     "output_type": "execute_result"
    }
   ],
   "source": [
    "# Finalize the model\n",
    "final_best = finalize_model(best)\n",
    "\n",
    "# Save model to disk\n",
    "save_model(final_best, 'diamond_pipeline')"
   ]
  },
  {
   "attachments": {},
   "cell_type": "markdown",
   "metadata": {},
   "source": [
    "### Within notebook (notice !sign infront)"
   ]
  },
  {
   "cell_type": "code",
   "execution_count": 24,
   "metadata": {},
   "outputs": [
    {
     "name": "stdout",
     "output_type": "stream",
     "text": [
      "[2023-06-29 09:28:55 +0530] [79303] [INFO] Starting gunicorn 20.1.0\n",
      "[2023-06-29 09:28:55 +0530] [79303] [INFO] Listening at: http://127.0.0.1:5000 (79303)\n",
      "[2023-06-29 09:28:55 +0530] [79303] [INFO] Using worker: sync\n",
      "[2023-06-29 09:28:55 +0530] [79304] [INFO] Booting worker with pid: 79304\n",
      "[2023-06-29 09:28:55 +0530] [79305] [INFO] Booting worker with pid: 79305\n",
      "[2023-06-29 09:28:55 +0530] [79306] [INFO] Booting worker with pid: 79306\n",
      "[2023-06-29 09:28:55 +0530] [79307] [INFO] Booting worker with pid: 79307\n",
      "^C\n",
      "[2023-06-29 09:29:25 +0530] [79303] [INFO] Handling signal: int\n",
      "[2023-06-29 09:29:25 +0530] [79305] [INFO] Worker exiting (pid: 79305)\n",
      "[2023-06-29 09:29:25 +0530] [79304] [INFO] Worker exiting (pid: 79304)\n",
      "[2023-06-29 09:29:25 +0530] [79307] [INFO] Worker exiting (pid: 79307)\n",
      "[2023-06-29 09:29:25 +0530] [79306] [INFO] Worker exiting (pid: 79306)\n"
     ]
    }
   ],
   "source": [
    "!mlflow ui"
   ]
  },
  {
   "attachments": {},
   "cell_type": "markdown",
   "metadata": {},
   "source": [
    "### On command line in the same folder \n",
    "`mlflow ui`"
   ]
  },
  {
   "attachments": {},
   "cell_type": "markdown",
   "metadata": {},
   "source": [
    "### Load the MLFlow model"
   ]
  },
  {
   "cell_type": "code",
   "execution_count": null,
   "metadata": {},
   "outputs": [
    {
     "name": "stdout",
     "output_type": "stream",
     "text": [
      "Transformation Pipeline and Model Successfully Loaded\n"
     ]
    }
   ],
   "source": [
    "from pycaret.regression import load_model\n",
    "pipeline = load_model('./saved_lr_model')"
   ]
  },
  {
   "cell_type": "code",
   "execution_count": null,
   "metadata": {},
   "outputs": [
    {
     "name": "stdout",
     "output_type": "stream",
     "text": [
      "Pipeline(memory=FastMemory(location=/var/folders/_9/wkm0tqns0n53w3ytpgc_68kc0000gn/T/joblib),\n",
      "         steps=[('numerical_imputer',\n",
      "                 TransformerWrapper(include=['temp', 'rain_1h', 'snow_1h',\n",
      "                                             'clouds_all', 'Rush Hour'],\n",
      "                                    transformer=SimpleImputer())),\n",
      "                ('categorical_imputer',\n",
      "                 TransformerWrapper(include=['holiday', 'weather_main'],\n",
      "                                    transformer=SimpleImputer(strategy='most_frequent'))),\n",
      "                ('onehot_encoding',\n",
      "                 TransformerWrapper(include=['holiday', 'weather_main'],\n",
      "                                    transformer=OneHotEncoder(cols=['holiday',\n",
      "                                                                    'weather_main'],\n",
      "                                                              handle_missing='return_nan',\n",
      "                                                              use_cat_names=True))),\n",
      "                ('clean_column_names',\n",
      "                 TransformerWrapper(transformer=CleanColumnNames())),\n",
      "                ('actual_estimator', LGBMRegressor(random_state=438))])\n"
     ]
    }
   ],
   "source": [
    "print(pipeline)"
   ]
  },
  {
   "attachments": {},
   "cell_type": "markdown",
   "metadata": {},
   "source": [
    "### Consume the model"
   ]
  },
  {
   "cell_type": "code",
   "execution_count": 28,
   "metadata": {},
   "outputs": [
    {
     "ename": "OSError",
     "evalue": "No such file or directory: '/Users/kushalbanda/Applications/MLOPS/Phase 2/mlruns/153243116702924659/1bd45930e43f4c50b5742beb126f4c08/MLmodel'",
     "output_type": "error",
     "traceback": [
      "\u001b[0;31m---------------------------------------------------------------------------\u001b[0m",
      "\u001b[0;31mOSError\u001b[0m                                   Traceback (most recent call last)",
      "Cell \u001b[0;32mIn[28], line 5\u001b[0m\n\u001b[1;32m      2\u001b[0m logged_model \u001b[39m=\u001b[39m \u001b[39m'\u001b[39m\u001b[39m./mlruns/153243116702924659/1bd45930e43f4c50b5742beb126f4c08\u001b[39m\u001b[39m'\u001b[39m\n\u001b[1;32m      4\u001b[0m \u001b[39m# Load model as a PyFuncModel\u001b[39;00m\n\u001b[0;32m----> 5\u001b[0m loaded_model \u001b[39m=\u001b[39m mlflow\u001b[39m.\u001b[39;49mpyfunc\u001b[39m.\u001b[39;49mload_model(logged_model)\n",
      "File \u001b[0;32m~/Anaconda/anaconda3/envs/MLOPS/lib/python3.9/site-packages/mlflow/pyfunc/__init__.py:583\u001b[0m, in \u001b[0;36mload_model\u001b[0;34m(model_uri, suppress_warnings, dst_path)\u001b[0m\n\u001b[1;32m    580\u001b[0m \u001b[39mif\u001b[39;00m \u001b[39mnot\u001b[39;00m suppress_warnings:\n\u001b[1;32m    581\u001b[0m     _warn_dependency_requirement_mismatches(local_path)\n\u001b[0;32m--> 583\u001b[0m model_meta \u001b[39m=\u001b[39m Model\u001b[39m.\u001b[39;49mload(os\u001b[39m.\u001b[39;49mpath\u001b[39m.\u001b[39;49mjoin(local_path, MLMODEL_FILE_NAME))\n\u001b[1;32m    585\u001b[0m conf \u001b[39m=\u001b[39m model_meta\u001b[39m.\u001b[39mflavors\u001b[39m.\u001b[39mget(FLAVOR_NAME)\n\u001b[1;32m    586\u001b[0m \u001b[39mif\u001b[39;00m conf \u001b[39mis\u001b[39;00m \u001b[39mNone\u001b[39;00m:\n",
      "File \u001b[0;32m~/Anaconda/anaconda3/envs/MLOPS/lib/python3.9/site-packages/mlflow/models/model.py:479\u001b[0m, in \u001b[0;36mModel.load\u001b[0;34m(cls, path)\u001b[0m\n\u001b[1;32m    457\u001b[0m \u001b[39m@classmethod\u001b[39m\n\u001b[1;32m    458\u001b[0m \u001b[39mdef\u001b[39;00m \u001b[39mload\u001b[39m(\u001b[39mcls\u001b[39m, path):\n\u001b[1;32m    459\u001b[0m \u001b[39m    \u001b[39m\u001b[39m\"\"\"\u001b[39;00m\n\u001b[1;32m    460\u001b[0m \u001b[39m    Load a model from its YAML representation.\u001b[39;00m\n\u001b[1;32m    461\u001b[0m \n\u001b[0;32m   (...)\u001b[0m\n\u001b[1;32m    477\u001b[0m \u001b[39m        model2 = Model.load(\"s3://mybucket/path/to/my/model\")\u001b[39;00m\n\u001b[1;32m    478\u001b[0m \u001b[39m    \"\"\"\u001b[39;00m\n\u001b[0;32m--> 479\u001b[0m     path \u001b[39m=\u001b[39m download_artifacts(artifact_uri\u001b[39m=\u001b[39;49mpath)\n\u001b[1;32m    480\u001b[0m     \u001b[39mif\u001b[39;00m os\u001b[39m.\u001b[39mpath\u001b[39m.\u001b[39misdir(path):\n\u001b[1;32m    481\u001b[0m         path \u001b[39m=\u001b[39m os\u001b[39m.\u001b[39mpath\u001b[39m.\u001b[39mjoin(path, MLMODEL_FILE_NAME)\n",
      "File \u001b[0;32m~/Anaconda/anaconda3/envs/MLOPS/lib/python3.9/site-packages/mlflow/artifacts/__init__.py:60\u001b[0m, in \u001b[0;36mdownload_artifacts\u001b[0;34m(artifact_uri, run_id, artifact_path, dst_path, tracking_uri)\u001b[0m\n\u001b[1;32m     57\u001b[0m     pathlib\u001b[39m.\u001b[39mPath(dst_path)\u001b[39m.\u001b[39mmkdir(exist_ok\u001b[39m=\u001b[39m\u001b[39mTrue\u001b[39;00m, parents\u001b[39m=\u001b[39m\u001b[39mTrue\u001b[39;00m)\n\u001b[1;32m     59\u001b[0m \u001b[39mif\u001b[39;00m artifact_uri \u001b[39mis\u001b[39;00m \u001b[39mnot\u001b[39;00m \u001b[39mNone\u001b[39;00m:\n\u001b[0;32m---> 60\u001b[0m     \u001b[39mreturn\u001b[39;00m _download_artifact_from_uri(artifact_uri, output_path\u001b[39m=\u001b[39;49mdst_path)\n\u001b[1;32m     62\u001b[0m artifact_path \u001b[39m=\u001b[39m artifact_path \u001b[39mif\u001b[39;00m artifact_path \u001b[39mis\u001b[39;00m \u001b[39mnot\u001b[39;00m \u001b[39mNone\u001b[39;00m \u001b[39melse\u001b[39;00m \u001b[39m\"\u001b[39m\u001b[39m\"\u001b[39m\n\u001b[1;32m     64\u001b[0m store \u001b[39m=\u001b[39m _get_store(store_uri\u001b[39m=\u001b[39mtracking_uri)\n",
      "File \u001b[0;32m~/Anaconda/anaconda3/envs/MLOPS/lib/python3.9/site-packages/mlflow/tracking/artifact_utils.py:100\u001b[0m, in \u001b[0;36m_download_artifact_from_uri\u001b[0;34m(artifact_uri, output_path)\u001b[0m\n\u001b[1;32m     94\u001b[0m \u001b[39m\u001b[39m\u001b[39m\"\"\"\u001b[39;00m\n\u001b[1;32m     95\u001b[0m \u001b[39m:param artifact_uri: The *absolute* URI of the artifact to download.\u001b[39;00m\n\u001b[1;32m     96\u001b[0m \u001b[39m:param output_path: The local filesystem path to which to download the artifact. If unspecified,\u001b[39;00m\n\u001b[1;32m     97\u001b[0m \u001b[39m                    a local output path will be created.\u001b[39;00m\n\u001b[1;32m     98\u001b[0m \u001b[39m\"\"\"\u001b[39;00m\n\u001b[1;32m     99\u001b[0m root_uri, artifact_path \u001b[39m=\u001b[39m _get_root_uri_and_artifact_path(artifact_uri)\n\u001b[0;32m--> 100\u001b[0m \u001b[39mreturn\u001b[39;00m get_artifact_repository(artifact_uri\u001b[39m=\u001b[39;49mroot_uri)\u001b[39m.\u001b[39;49mdownload_artifacts(\n\u001b[1;32m    101\u001b[0m     artifact_path\u001b[39m=\u001b[39;49martifact_path, dst_path\u001b[39m=\u001b[39;49moutput_path\n\u001b[1;32m    102\u001b[0m )\n",
      "File \u001b[0;32m~/Anaconda/anaconda3/envs/MLOPS/lib/python3.9/site-packages/mlflow/store/artifact/local_artifact_repo.py:81\u001b[0m, in \u001b[0;36mLocalArtifactRepository.download_artifacts\u001b[0;34m(self, artifact_path, dst_path)\u001b[0m\n\u001b[1;32m     79\u001b[0m local_artifact_path \u001b[39m=\u001b[39m os\u001b[39m.\u001b[39mpath\u001b[39m.\u001b[39mjoin(\u001b[39mself\u001b[39m\u001b[39m.\u001b[39martifact_dir, os\u001b[39m.\u001b[39mpath\u001b[39m.\u001b[39mnormpath(artifact_path))\n\u001b[1;32m     80\u001b[0m \u001b[39mif\u001b[39;00m \u001b[39mnot\u001b[39;00m os\u001b[39m.\u001b[39mpath\u001b[39m.\u001b[39mexists(local_artifact_path):\n\u001b[0;32m---> 81\u001b[0m     \u001b[39mraise\u001b[39;00m \u001b[39mOSError\u001b[39;00m(\u001b[39mf\u001b[39m\u001b[39m\"\u001b[39m\u001b[39mNo such file or directory: \u001b[39m\u001b[39m'\u001b[39m\u001b[39m{\u001b[39;00mlocal_artifact_path\u001b[39m}\u001b[39;00m\u001b[39m'\u001b[39m\u001b[39m\"\u001b[39m)\n\u001b[1;32m     82\u001b[0m \u001b[39mreturn\u001b[39;00m os\u001b[39m.\u001b[39mpath\u001b[39m.\u001b[39mabspath(local_artifact_path)\n",
      "\u001b[0;31mOSError\u001b[0m: No such file or directory: '/Users/kushalbanda/Applications/MLOPS/Phase 2/mlruns/153243116702924659/1bd45930e43f4c50b5742beb126f4c08/MLmodel'"
     ]
    }
   ],
   "source": [
    "import mlflow\n",
    "logged_model = './mlruns/153243116702924659/1bd45930e43f4c50b5742beb126f4c08'\n",
    "\n",
    "# Load model as a PyFuncModel\n",
    "loaded_model = mlflow.pyfunc.load_model(logged_model)\n",
    "\n",
    "# Predict on a Pandas DataFrame\n",
    "import pandas as pd \n",
    "load_model.predict(pd.DataFrame(data))"
   ]
  },
  {
   "cell_type": "code",
   "execution_count": null,
   "metadata": {},
   "outputs": [],
   "source": [
    "print(load_model)"
   ]
  },
  {
   "attachments": {},
   "cell_type": "markdown",
   "metadata": {},
   "source": [
    "### Another Method"
   ]
  },
  {
   "cell_type": "code",
   "execution_count": 29,
   "metadata": {},
   "outputs": [
    {
     "name": "stdout",
     "output_type": "stream",
     "text": [
      "Transformation Pipeline and Model Successfully Loaded\n"
     ]
    }
   ],
   "source": [
    "pipeline = load_model('./diamond_pipeline')"
   ]
  },
  {
   "cell_type": "code",
   "execution_count": 30,
   "metadata": {},
   "outputs": [
    {
     "name": "stdout",
     "output_type": "stream",
     "text": [
      "Pipeline(memory=FastMemory(location=/var/folders/_9/wkm0tqns0n53w3ytpgc_68kc0000gn/T/joblib),\n",
      "         steps=[('target_transformation',\n",
      "                 TransformerWrapperWithInverse(transformer=TargetTransformer(estimator=PowerTransformer(standardize=False)))),\n",
      "                ('numerical_imputer',\n",
      "                 TransformerWrapper(include=['Carat Weight'],\n",
      "                                    transformer=SimpleImputer())),\n",
      "                ('categorical_imputer'...\n",
      "dtype: int64}]))),\n",
      "                ('onehot_encoding',\n",
      "                 TransformerWrapper(include=['Cut', 'Color', 'Clarity',\n",
      "                                             'Polish', 'Symmetry'],\n",
      "                                    transformer=OneHotEncoder(cols=['Cut',\n",
      "                                                                    'Color',\n",
      "                                                                    'Clarity',\n",
      "                                                                    'Polish',\n",
      "                                                                    'Symmetry'],\n",
      "                                                              handle_missing='return_nan',\n",
      "                                                              use_cat_names=True))),\n",
      "                ('clean_column_names',\n",
      "                 TransformerWrapper(transformer=CleanColumnNames())),\n",
      "                ('actual_estimator', LGBMRegressor(random_state=3238))])\n"
     ]
    }
   ],
   "source": [
    "print(pipeline)"
   ]
  },
  {
   "cell_type": "code",
   "execution_count": 31,
   "metadata": {},
   "outputs": [
    {
     "data": {
      "text/html": [
       "<div>\n",
       "<style scoped>\n",
       "    .dataframe tbody tr th:only-of-type {\n",
       "        vertical-align: middle;\n",
       "    }\n",
       "\n",
       "    .dataframe tbody tr th {\n",
       "        vertical-align: top;\n",
       "    }\n",
       "\n",
       "    .dataframe thead th {\n",
       "        text-align: right;\n",
       "    }\n",
       "</style>\n",
       "<table border=\"1\" class=\"dataframe\">\n",
       "  <thead>\n",
       "    <tr style=\"text-align: right;\">\n",
       "      <th></th>\n",
       "      <th>Carat Weight</th>\n",
       "      <th>Cut</th>\n",
       "      <th>Color</th>\n",
       "      <th>Clarity</th>\n",
       "      <th>Polish</th>\n",
       "      <th>Symmetry</th>\n",
       "      <th>Report</th>\n",
       "      <th>Price</th>\n",
       "    </tr>\n",
       "  </thead>\n",
       "  <tbody>\n",
       "    <tr>\n",
       "      <th>0</th>\n",
       "      <td>1.10</td>\n",
       "      <td>Ideal</td>\n",
       "      <td>H</td>\n",
       "      <td>SI1</td>\n",
       "      <td>VG</td>\n",
       "      <td>EX</td>\n",
       "      <td>GIA</td>\n",
       "      <td>5169</td>\n",
       "    </tr>\n",
       "    <tr>\n",
       "      <th>1</th>\n",
       "      <td>0.83</td>\n",
       "      <td>Ideal</td>\n",
       "      <td>H</td>\n",
       "      <td>VS1</td>\n",
       "      <td>ID</td>\n",
       "      <td>ID</td>\n",
       "      <td>AGSL</td>\n",
       "      <td>3470</td>\n",
       "    </tr>\n",
       "    <tr>\n",
       "      <th>2</th>\n",
       "      <td>0.85</td>\n",
       "      <td>Ideal</td>\n",
       "      <td>H</td>\n",
       "      <td>SI1</td>\n",
       "      <td>EX</td>\n",
       "      <td>EX</td>\n",
       "      <td>GIA</td>\n",
       "      <td>3183</td>\n",
       "    </tr>\n",
       "    <tr>\n",
       "      <th>3</th>\n",
       "      <td>0.91</td>\n",
       "      <td>Ideal</td>\n",
       "      <td>E</td>\n",
       "      <td>SI1</td>\n",
       "      <td>VG</td>\n",
       "      <td>VG</td>\n",
       "      <td>GIA</td>\n",
       "      <td>4370</td>\n",
       "    </tr>\n",
       "    <tr>\n",
       "      <th>4</th>\n",
       "      <td>0.83</td>\n",
       "      <td>Ideal</td>\n",
       "      <td>G</td>\n",
       "      <td>SI1</td>\n",
       "      <td>EX</td>\n",
       "      <td>EX</td>\n",
       "      <td>GIA</td>\n",
       "      <td>3171</td>\n",
       "    </tr>\n",
       "  </tbody>\n",
       "</table>\n",
       "</div>"
      ],
      "text/plain": [
       "   Carat Weight    Cut Color Clarity Polish Symmetry Report  Price\n",
       "0          1.10  Ideal     H     SI1     VG       EX    GIA   5169\n",
       "1          0.83  Ideal     H     VS1     ID       ID   AGSL   3470\n",
       "2          0.85  Ideal     H     SI1     EX       EX    GIA   3183\n",
       "3          0.91  Ideal     E     SI1     VG       VG    GIA   4370\n",
       "4          0.83  Ideal     G     SI1     EX       EX    GIA   3171"
      ]
     },
     "metadata": {},
     "output_type": "display_data"
    }
   ],
   "source": [
    "data = get_data('diamond')\n",
    "\n",
    "# Create a copy of data and drop Price \n",
    "data2 = data.copy()\n",
    "data2.drop('Price', axis = 1, inplace = True)"
   ]
  },
  {
   "cell_type": "code",
   "execution_count": 32,
   "metadata": {},
   "outputs": [
    {
     "data": {
      "text/html": [],
      "text/plain": [
       "<IPython.core.display.HTML object>"
      ]
     },
     "metadata": {},
     "output_type": "display_data"
    },
    {
     "data": {
      "text/html": [
       "<div>\n",
       "<style scoped>\n",
       "    .dataframe tbody tr th:only-of-type {\n",
       "        vertical-align: middle;\n",
       "    }\n",
       "\n",
       "    .dataframe tbody tr th {\n",
       "        vertical-align: top;\n",
       "    }\n",
       "\n",
       "    .dataframe thead th {\n",
       "        text-align: right;\n",
       "    }\n",
       "</style>\n",
       "<table border=\"1\" class=\"dataframe\">\n",
       "  <thead>\n",
       "    <tr style=\"text-align: right;\">\n",
       "      <th></th>\n",
       "      <th>Carat Weight</th>\n",
       "      <th>Cut</th>\n",
       "      <th>Color</th>\n",
       "      <th>Clarity</th>\n",
       "      <th>Polish</th>\n",
       "      <th>Symmetry</th>\n",
       "      <th>Report</th>\n",
       "      <th>prediction_label</th>\n",
       "    </tr>\n",
       "  </thead>\n",
       "  <tbody>\n",
       "    <tr>\n",
       "      <th>0</th>\n",
       "      <td>1.10</td>\n",
       "      <td>Ideal</td>\n",
       "      <td>H</td>\n",
       "      <td>SI1</td>\n",
       "      <td>VG</td>\n",
       "      <td>EX</td>\n",
       "      <td>GIA</td>\n",
       "      <td>5421.280172</td>\n",
       "    </tr>\n",
       "    <tr>\n",
       "      <th>1</th>\n",
       "      <td>0.83</td>\n",
       "      <td>Ideal</td>\n",
       "      <td>H</td>\n",
       "      <td>VS1</td>\n",
       "      <td>ID</td>\n",
       "      <td>ID</td>\n",
       "      <td>AGSL</td>\n",
       "      <td>3569.891342</td>\n",
       "    </tr>\n",
       "    <tr>\n",
       "      <th>2</th>\n",
       "      <td>0.85</td>\n",
       "      <td>Ideal</td>\n",
       "      <td>H</td>\n",
       "      <td>SI1</td>\n",
       "      <td>EX</td>\n",
       "      <td>EX</td>\n",
       "      <td>GIA</td>\n",
       "      <td>3341.587732</td>\n",
       "    </tr>\n",
       "    <tr>\n",
       "      <th>3</th>\n",
       "      <td>0.91</td>\n",
       "      <td>Ideal</td>\n",
       "      <td>E</td>\n",
       "      <td>SI1</td>\n",
       "      <td>VG</td>\n",
       "      <td>VG</td>\n",
       "      <td>GIA</td>\n",
       "      <td>4531.185124</td>\n",
       "    </tr>\n",
       "    <tr>\n",
       "      <th>4</th>\n",
       "      <td>0.83</td>\n",
       "      <td>Ideal</td>\n",
       "      <td>G</td>\n",
       "      <td>SI1</td>\n",
       "      <td>EX</td>\n",
       "      <td>EX</td>\n",
       "      <td>GIA</td>\n",
       "      <td>3256.250454</td>\n",
       "    </tr>\n",
       "  </tbody>\n",
       "</table>\n",
       "</div>"
      ],
      "text/plain": [
       "   Carat Weight    Cut Color Clarity Polish Symmetry Report  prediction_label\n",
       "0          1.10  Ideal     H     SI1     VG       EX    GIA       5421.280172\n",
       "1          0.83  Ideal     H     VS1     ID       ID   AGSL       3569.891342\n",
       "2          0.85  Ideal     H     SI1     EX       EX    GIA       3341.587732\n",
       "3          0.91  Ideal     E     SI1     VG       VG    GIA       4531.185124\n",
       "4          0.83  Ideal     G     SI1     EX       EX    GIA       3256.250454"
      ]
     },
     "execution_count": 32,
     "metadata": {},
     "output_type": "execute_result"
    }
   ],
   "source": [
    "# Generate predictions\n",
    "from pycaret.regression import predict_model\n",
    "predictions = predict_model(pipeline, data = data2)\n",
    "predictions.head()"
   ]
  }
 ],
 "metadata": {
  "kernelspec": {
   "display_name": "MLOPS",
   "language": "python",
   "name": "python3"
  },
  "language_info": {
   "codemirror_mode": {
    "name": "ipython",
    "version": 3
   },
   "file_extension": ".py",
   "mimetype": "text/x-python",
   "name": "python",
   "nbconvert_exporter": "python",
   "pygments_lexer": "ipython3",
   "version": "3.9.16"
  },
  "orig_nbformat": 4
 },
 "nbformat": 4,
 "nbformat_minor": 2
}
