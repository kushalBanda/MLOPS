{
 "cells": [
  {
   "attachments": {},
   "cell_type": "markdown",
   "metadata": {},
   "source": [
    "### Model versioning and registration with MLFlow\n"
   ]
  },
  {
   "cell_type": "code",
   "execution_count": 4,
   "metadata": {},
   "outputs": [],
   "source": [
    "import os \n",
    "import warnings\n",
    "import sys\n",
    "\n",
    "import pandas as pd\n",
    "import numpy as np\n",
    "from sklearn.metrics import mean_squared_error, mean_absolute_error, r2_score\n",
    "from sklearn.model_selection import train_test_split\n",
    "from sklearn.linear_model import ElasticNet\n",
    "from urllib.parse import urlparse\n",
    "import mlflow\n",
    "import mlflow.sklearn\n",
    "\n",
    "import logging \n",
    "\n",
    "logging.basicConfig(level = logging.WARN)\n",
    "logger = logging.getLogger(__name__)"
   ]
  },
  {
   "attachments": {},
   "cell_type": "markdown",
   "metadata": {},
   "source": [
    "> Note on ElasticNet: ElasticNet is a linear regression model that combines the properties of both Ridge regression and Lasso regression. It is a regularization technique used for regression tasks, particularly when dealing with high-dimensional datasets where the number of features (variables) is larger than the number of observations.\n",
    "\n",
    "The ElasticNet model introduces two hyperparameters: alpha and l1_ratio.\n",
    "\n",
    "* Alpha controls the overall strength of regularization. A higher alpha value results in stronger regularization, which shrinks the regression coefficients towards zero more aggressively.\n",
    "* The l1_ratio determines the balance between the L1 and L2 penalties. A l1_ratio of 1 corresponds to pure Lasso regression, while a l1_ratio of 0 corresponds to pure Ridge regression. Intermediate values allow ElasticNet to mix the properties of both Lasso and Ridge.\n"
   ]
  },
  {
   "cell_type": "code",
   "execution_count": 5,
   "metadata": {},
   "outputs": [],
   "source": [
    "def eval_metric(actual, pred):\n",
    "    rmse = np.sqrt(mean_squared_error(actual, pred))\n",
    "    mae = mean_absolute_error(actual, pred)\n",
    "    r2 = r2_score(actual, pred)\n",
    "\n",
    "    return rmse, mae, r2"
   ]
  },
  {
   "cell_type": "code",
   "execution_count": 6,
   "metadata": {},
   "outputs": [
    {
     "name": "stdout",
     "output_type": "stream",
     "text": [
      "ElasticNet model (alpha-0.500000, l1_ratio-0.500000):\n",
      "RMSE: 0.793164022927685\n",
      "MAE: 0.6271946374319586\n",
      "R2: 0.10862644997792636\n"
     ]
    }
   ],
   "source": [
    "if __name__ == \"__main__\":\n",
    "\n",
    "    warnings.filterwarnings('ignore')\n",
    "    np.random.seed(40)\n",
    "\n",
    "    # Read the wine-quality csv file from the URL\n",
    "    csv_url = (\n",
    "        \"http://archive.ics.uci.edu/ml/machine-learning-databases/wine-quality/winequality-red.csv\"\n",
    "    )\n",
    "\n",
    "    try:\n",
    "        data = pd.read_csv(csv_url, sep = ';')\n",
    "    except Exception as e:\n",
    "        logger.exception(\n",
    "            \"Unable to download training & test CSV, check your internet connection. Error: %s\", e\n",
    "        )\n",
    "    \n",
    "    # Split the data into training and test sets. (0.75, 0.25) split.\n",
    "    train, test = train_test_split(data)\n",
    "\n",
    "    # The predicted column is \"quality\" which is a scaler from [3, 9]\n",
    "    train_x = train.drop(['quality'], axis = 1)\n",
    "    test_x = test.drop(['quality'], axis = 1)\n",
    "    train_y = train[['quality']]\n",
    "    test_y = test[['quality']]\n",
    "\n",
    "    alpha = 0.5\n",
    "    l1_ratio = 0.5\n",
    "\n",
    "    with mlflow.start_run():\n",
    "        lr = ElasticNet(alpha = alpha, l1_ratio = l1_ratio, random_state = 42)\n",
    "        lr.fit(train_x, train_y)\n",
    "\n",
    "        predicted_qualities = lr.predict(test_x)\n",
    "\n",
    "        (rmse, mae, r2) = eval_metric(test_y, predicted_qualities)\n",
    "\n",
    "        print(\"ElasticNet model (alpha-%f, l1_ratio-%f):\" % (alpha, l1_ratio))\n",
    "        print(\"RMSE: %s\" % rmse)\n",
    "        print('MAE: %s' %mae)\n",
    "        print(\"R2: %s\" %r2)\n",
    "\n",
    "        mlflow.log_param('alpha', alpha)\n",
    "        mlflow.log_param('l1 _ratio', l1_ratio)\n",
    "        mlflow.log_metric(\"rmse\", rmse)\n",
    "        mlflow.log_metric(\"r2\", r2)\n",
    "        mlflow.log_metric('mae', mae)\n",
    "\n",
    "        tracking_url_type_store = urlparse(mlflow.get_registry_uri()).scheme\n",
    "\n",
    "        # Model registry does not work with file store\n",
    "        if tracking_url_type_store != 'file':\n",
    "\n",
    "            # Register the model\n",
    "            # There are other ways to use the Model Registry, which depends on the use case,\n",
    "            # Please refer to the doc for more information:\n",
    "            # https://mlflow.org/docs/latest/model-registry.html#api-workflow\n",
    "            mlflow.sklearn.log_model(lr, \"model\", registered_model_name = \"ElasticnetWineModel\")\n",
    "\n",
    "        else:\n",
    "            mlflow.sklearn.log_model(lr, \"model\")"
   ]
  },
  {
   "cell_type": "code",
   "execution_count": 11,
   "metadata": {},
   "outputs": [
    {
     "name": "stdout",
     "output_type": "stream",
     "text": [
      "[2023-06-28 16:29:45 +0530] [78126] [INFO] Starting gunicorn 20.1.0\n",
      "[2023-06-28 16:29:45 +0530] [78126] [INFO] Listening at: http://127.0.0.1:5000 (78126)\n",
      "[2023-06-28 16:29:45 +0530] [78126] [INFO] Using worker: sync\n",
      "[2023-06-28 16:29:45 +0530] [78127] [INFO] Booting worker with pid: 78127\n",
      "[2023-06-28 16:29:45 +0530] [78128] [INFO] Booting worker with pid: 78128\n",
      "[2023-06-28 16:29:45 +0530] [78129] [INFO] Booting worker with pid: 78129\n",
      "[2023-06-28 16:29:45 +0530] [78130] [INFO] Booting worker with pid: 78130\n",
      "^C\n",
      "[2023-06-28 16:30:25 +0530] [78126] [INFO] Handling signal: int\n",
      "[2023-06-28 16:30:25 +0530] [78130] [INFO] Worker exiting (pid: 78130)\n",
      "[2023-06-28 16:30:25 +0530] [78129] [INFO] Worker exiting (pid: 78129)\n",
      "[2023-06-28 16:30:25 +0530] [78128] [INFO] Worker exiting (pid: 78128)\n",
      "[2023-06-28 16:30:25 +0530] [78127] [INFO] Worker exiting (pid: 78127)\n"
     ]
    }
   ],
   "source": [
    "!mlflow ui"
   ]
  },
  {
   "cell_type": "code",
   "execution_count": null,
   "metadata": {},
   "outputs": [],
   "source": []
  },
  {
   "cell_type": "code",
   "execution_count": null,
   "metadata": {},
   "outputs": [],
   "source": []
  },
  {
   "cell_type": "code",
   "execution_count": null,
   "metadata": {},
   "outputs": [],
   "source": []
  }
 ],
 "metadata": {
  "kernelspec": {
   "display_name": "MLOPS",
   "language": "python",
   "name": "python3"
  },
  "language_info": {
   "codemirror_mode": {
    "name": "ipython",
    "version": 3
   },
   "file_extension": ".py",
   "mimetype": "text/x-python",
   "name": "python",
   "nbconvert_exporter": "python",
   "pygments_lexer": "ipython3",
   "version": "3.9.16"
  },
  "orig_nbformat": 4
 },
 "nbformat": 4,
 "nbformat_minor": 2
}
